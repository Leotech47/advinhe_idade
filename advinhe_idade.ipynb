{
  "nbformat": 4,
  "nbformat_minor": 0,
  "metadata": {
    "colab": {
      "provenance": [],
      "authorship_tag": "ABX9TyOgp/QlqKAU4+cR5JLBOX6k",
      "include_colab_link": true
    },
    "kernelspec": {
      "name": "python3",
      "display_name": "Python 3"
    },
    "language_info": {
      "name": "python"
    }
  },
  "cells": [
    {
      "cell_type": "markdown",
      "metadata": {
        "id": "view-in-github",
        "colab_type": "text"
      },
      "source": [
        "<a href=\"https://colab.research.google.com/github/Leotech47/advinhe_idade/blob/main/advinhe_idade.ipynb\" target=\"_parent\"><img src=\"https://colab.research.google.com/assets/colab-badge.svg\" alt=\"Open In Colab\"/></a>"
      ]
    },
    {
      "cell_type": "code",
      "execution_count": null,
      "metadata": {
        "id": "Zm9KyJXCgHia"
      },
      "outputs": [],
      "source": [
        "# Código Python para Adivinhar a Data de Nascimento de João"
      ]
    },
    {
      "cell_type": "code",
      "source": [
        "data_nascimento = \"19 de dezembro de 1975\"\n",
        "premio = 10000\n",
        "penalidade = 1\n",
        "valor_acumulado = 0\n",
        "\n",
        "while True:  # Laço equivalente ao Faça-Enquanto\n",
        "    palpite = input(\"Digite seu palpite para a data de nascimento de João (formato: dia de mês de ano): \")\n",
        "\n",
        "    if palpite == data_nascimento:\n",
        "        valor_acumulado += premio\n",
        "        print(\"Parabéns! Você acertou a data de nascimento de João!\")\n",
        "        print(f\"Você ganhou o prêmio de R$ {premio}!\")\n",
        "        break  # Sai do laço quando acertar\n",
        "    else:\n",
        "        valor_acumulado -= penalidade\n",
        "        print(\"Que pena! Você errou.\")\n",
        "        print(f\"Você perdeu R$ {penalidade}.\")\n",
        "\n",
        "    print(f\"Valor acumulado: R$ {valor_acumulado}\")"
      ],
      "metadata": {
        "colab": {
          "base_uri": "https://localhost:8080/"
        },
        "id": "K-RE1YwwgJ97",
        "outputId": "15cecd01-a75e-467f-e87c-d164760e52d3"
      },
      "execution_count": null,
      "outputs": [
        {
          "output_type": "stream",
          "name": "stdout",
          "text": [
            "Digite seu palpite para a data de nascimento de João (formato: dia de mês de ano): 18 de dezembro de 1975\n",
            "Que pena! Você errou.\n",
            "Você perdeu R$ 1.\n",
            "Valor acumulado: R$ -1\n",
            "Digite seu palpite para a data de nascimento de João (formato: dia de mês de ano): 19 de dezembro de 1975\n",
            "Parabéns! Você acertou a data de nascimento de João!\n",
            "Você ganhou o prêmio de R$ 10000!\n"
          ]
        }
      ]
    },
    {
      "cell_type": "markdown",
      "source": [
        "#Explicação:\n",
        "\n",
        "Variáveis: As variáveis são definidas da mesma forma que no pseudocódigo, mas com nomes em minúsculas e separados por sublinhados (_) seguindo as convenções do Python.\n",
        "Laço while True: O laço while True cria um loop infinito, equivalente ao Faça-Enquanto do pseudocódigo. A condição True garante que o laço continue executando até que seja explicitamente interrompido com o comando break.\n",
        "Entrada do usuário: A função input() é usada para solicitar o palpite do usuário e armazená-lo na variável palpite.\n",
        "Condicionais: As estruturas if, elif e else são usadas para verificar se o palpite está correto e executar as ações correspondentes.\n",
        "Saída formatada: A função print() é usada para exibir mensagens e valores formatados usando f-strings (strings que começam com f e permitem inserir variáveis diretamente no texto).\n",
        "Interrupção do laço: O comando break é usado para sair do laço while quando o usuário acerta a data de nascimento.\n",
        "Observações:\n",
        "\n",
        "Este código assume que o usuário digitará a data no formato correto (\"dia de mês de ano\"). Você pode adicionar tratamento de erros para lidar com formatos inválidos, se necessário.\n",
        "O jogo continua até que o usuário acerte a data. Você pode adicionar outras condições de término ou recursos adicionais, como um limite de tentativas ou dicas, para tornar o jogo mais interessante."
      ],
      "metadata": {
        "id": "s3SAYIPvgXZ5"
      }
    }
  ]
}